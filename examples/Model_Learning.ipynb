{
 "cells": [
  {
   "cell_type": "markdown",
   "id": "abaee0fb",
   "metadata": {},
   "source": [
    "# Model Learning using $C^3$"
   ]
  },
  {
   "cell_type": "markdown",
   "id": "ce190974",
   "metadata": {},
   "source": [
    "## Define a simple model\n",
    "\n",
    "Load a one qubit device model from `.cfg` and `.hjsons`"
   ]
  },
  {
   "cell_type": "markdown",
   "id": "c84b2346",
   "metadata": {},
   "source": [
    "\n",
    "## Run $C_1$ Optimal Control [Optional]"
   ]
  },
  {
   "cell_type": "markdown",
   "id": "9a951c77",
   "metadata": {},
   "source": [
    "## Run $C_2$ Device Calibration\n",
    "\n",
    "- Follow steps in `examples/Simulated_calibration.ipynb`\n",
    "- Store data from the calibration run in a reusable format\n",
    "\n",
    "The path to the dataset can be retrieved from opt.picklefilename"
   ]
  },
  {
   "cell_type": "markdown",
   "id": "74f2cf2d",
   "metadata": {},
   "source": [
    "## Run $C_3$ Model Characterisation\n",
    "\n",
    "- Load device model from configs\n",
    "- Read data from the dataset stored in previous step\n",
    "- Perform model learning with this data and model"
   ]
  },
  {
   "cell_type": "code",
   "execution_count": 1,
   "id": "6e9da309",
   "metadata": {},
   "outputs": [],
   "source": [
    "import pandas as pd\n",
    "from pprint import pprint"
   ]
  },
  {
   "cell_type": "code",
   "execution_count": 2,
   "id": "a5de883e",
   "metadata": {},
   "outputs": [],
   "source": [
    "c2_data = pd.read_pickle(\"dataset.pkl\")"
   ]
  },
  {
   "cell_type": "markdown",
   "id": "5419063a",
   "metadata": {},
   "source": [
    "### What does the dataset from $C^2$ look like?"
   ]
  },
  {
   "cell_type": "code",
   "execution_count": 3,
   "id": "fa40e632",
   "metadata": {},
   "outputs": [
    {
     "output_type": "execute_result",
     "data": {
      "text/plain": [
       "                                              params  \\\n",
       "0  [(0.45), (-1.0), (-50500000.00000001), (4.0840...   \n",
       "1  [(0.4816944534011803), (0.9266191621542186), (...   \n",
       "2  [(0.4865991112066932), (-0.6022610301359776), ...   \n",
       "3  [(0.436329868915615), (-1.8309698912603887), (...   \n",
       "4  [(0.4649423138992642), (-1.2808451649060126), ...   \n",
       "\n",
       "                                           seqs             results  \\\n",
       "0  [[rx90p[0], rx90m[0]], [rx90p[0], rx90m[0]]]      [[0.0], [0.0]]   \n",
       "1  [[rx90p[0], rx90m[0]], [rx90p[0], rx90m[0]]]   [[0.17], [0.166]]   \n",
       "2  [[rx90p[0], rx90m[0]], [rx90p[0], rx90m[0]]]  [[0.002], [0.007]]   \n",
       "3  [[rx90p[0], rx90m[0]], [rx90p[0], rx90m[0]]]   [[0.025], [0.03]]   \n",
       "4  [[rx90p[0], rx90m[0]], [rx90p[0], rx90m[0]]]   [[0.01], [0.012]]   \n",
       "\n",
       "                                         results_std             shots  \n",
       "0                                     [[0.0], [0.0]]  [[1000], [1000]]  \n",
       "1   [[0.011878552100319299], [0.011766222843376714]]  [[1000], [1000]]  \n",
       "2  [[0.0014127986409959489], [0.00263647491928142...  [[1000], [1000]]  \n",
       "3   [[0.004937104414532875], [0.005394441583704471]]  [[1000], [1000]]  \n",
       "4  [[0.0031464265445104544], [0.003443254274665175]]  [[1000], [1000]]  "
      ],
      "text/html": "<div>\n<style scoped>\n    .dataframe tbody tr th:only-of-type {\n        vertical-align: middle;\n    }\n\n    .dataframe tbody tr th {\n        vertical-align: top;\n    }\n\n    .dataframe thead th {\n        text-align: right;\n    }\n</style>\n<table border=\"1\" class=\"dataframe\">\n  <thead>\n    <tr style=\"text-align: right;\">\n      <th></th>\n      <th>params</th>\n      <th>seqs</th>\n      <th>results</th>\n      <th>results_std</th>\n      <th>shots</th>\n    </tr>\n  </thead>\n  <tbody>\n    <tr>\n      <th>0</th>\n      <td>[(0.45), (-1.0), (-50500000.00000001), (4.0840...</td>\n      <td>[[rx90p[0], rx90m[0]], [rx90p[0], rx90m[0]]]</td>\n      <td>[[0.0], [0.0]]</td>\n      <td>[[0.0], [0.0]]</td>\n      <td>[[1000], [1000]]</td>\n    </tr>\n    <tr>\n      <th>1</th>\n      <td>[(0.4816944534011803), (0.9266191621542186), (...</td>\n      <td>[[rx90p[0], rx90m[0]], [rx90p[0], rx90m[0]]]</td>\n      <td>[[0.17], [0.166]]</td>\n      <td>[[0.011878552100319299], [0.011766222843376714]]</td>\n      <td>[[1000], [1000]]</td>\n    </tr>\n    <tr>\n      <th>2</th>\n      <td>[(0.4865991112066932), (-0.6022610301359776), ...</td>\n      <td>[[rx90p[0], rx90m[0]], [rx90p[0], rx90m[0]]]</td>\n      <td>[[0.002], [0.007]]</td>\n      <td>[[0.0014127986409959489], [0.00263647491928142...</td>\n      <td>[[1000], [1000]]</td>\n    </tr>\n    <tr>\n      <th>3</th>\n      <td>[(0.436329868915615), (-1.8309698912603887), (...</td>\n      <td>[[rx90p[0], rx90m[0]], [rx90p[0], rx90m[0]]]</td>\n      <td>[[0.025], [0.03]]</td>\n      <td>[[0.004937104414532875], [0.005394441583704471]]</td>\n      <td>[[1000], [1000]]</td>\n    </tr>\n    <tr>\n      <th>4</th>\n      <td>[(0.4649423138992642), (-1.2808451649060126), ...</td>\n      <td>[[rx90p[0], rx90m[0]], [rx90p[0], rx90m[0]]]</td>\n      <td>[[0.01], [0.012]]</td>\n      <td>[[0.0031464265445104544], [0.003443254274665175]]</td>\n      <td>[[1000], [1000]]</td>\n    </tr>\n  </tbody>\n</table>\n</div>"
     },
     "metadata": {},
     "execution_count": 3
    }
   ],
   "source": [
    "c2_data.head()"
   ]
  },
  {
   "cell_type": "code",
   "execution_count": 4,
   "metadata": {},
   "outputs": [
    {
     "output_type": "execute_result",
     "data": {
      "text/plain": [
       "[450.000 mV, -1.000 , -50.500 MHz 2pi, 4.084 rad]"
      ]
     },
     "metadata": {},
     "execution_count": 4
    }
   ],
   "source": [
    "c2_data['params'][0]"
   ]
  }
 ],
 "metadata": {
  "kernelspec": {
   "name": "python388jvsc74a57bd0d5cf14e4d9ab1ea025aa471aed46f344d1515a88cee97f484fbdd896922a10bf",
   "display_name": "Python 3.8.8 64-bit ('c3-qopt': conda)"
  },
  "language_info": {
   "codemirror_mode": {
    "name": "ipython",
    "version": 3
   },
   "file_extension": ".py",
   "mimetype": "text/x-python",
   "name": "python",
   "nbconvert_exporter": "python",
   "pygments_lexer": "ipython3",
   "version": "3.8.8"
  },
  "metadata": {
   "interpreter": {
    "hash": "d5cf14e4d9ab1ea025aa471aed46f344d1515a88cee97f484fbdd896922a10bf"
   }
  }
 },
 "nbformat": 4,
 "nbformat_minor": 5
}