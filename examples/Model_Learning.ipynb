{
 "cells": [
  {
   "cell_type": "markdown",
   "id": "abaee0fb",
   "metadata": {},
   "source": [
    "# Model Learning using $C^3$"
   ]
  },
  {
   "cell_type": "markdown",
   "id": "ce190974",
   "metadata": {},
   "source": [
    "## Define a simple model\n",
    "\n",
    "Load a one qubit device model from `.cfg` and `.hjsons`"
   ]
  },
  {
   "cell_type": "markdown",
   "id": "c84b2346",
   "metadata": {},
   "source": [
    "\n",
    "## Run $C_1$ Optimal Control (Optional)"
   ]
  },
  {
   "cell_type": "markdown",
   "id": "9a951c77",
   "metadata": {},
   "source": [
    "## Run $C_2$ Device Calibration\n",
    "\n",
    "- Follow steps in `examples/Simulated_calibration.ipynb`\n",
    "- Store data from the calibration run in a reusable format\n",
    "\n",
    "The path to the dataset can be retrieved from opt.picklefilename"
   ]
  },
  {
   "cell_type": "markdown",
   "id": "74f2cf2d",
   "metadata": {},
   "source": [
    "## Run $C_3$ Model Characterisation\n",
    "\n",
    "- Load device model from configs\n",
    "- Read data from the dataset stored in previous step\n",
    "- Perform model learning with this data and model"
   ]
  },
  {
   "cell_type": "code",
   "execution_count": 1,
   "id": "6e9da309",
   "metadata": {},
   "outputs": [],
   "source": [
    "from single_qubit_blackbox_exp import create_experiment"
   ]
  },
  {
   "cell_type": "code",
   "execution_count": 2,
   "id": "a5de883e",
   "metadata": {},
   "outputs": [],
   "source": [
    "# Load Data"
   ]
  },
  {
   "cell_type": "markdown",
   "id": "5419063a",
   "metadata": {},
   "source": [
    "### What does the dataset from $C^2$ look like?"
   ]
  },
  {
   "cell_type": "code",
   "execution_count": 3,
   "id": "fa40e632",
   "metadata": {},
   "outputs": [],
   "source": [
    "# Print the keys of the dataset dictionary\n",
    "# Print the opt_map\n",
    "# Print data from first few sequences"
   ]
  },
  {
   "source": [
    "### Model Creation\n",
    "\n",
    "We create an initial model of our system, to reflect the blackbox model used in the $C_2$ step"
   ],
   "cell_type": "markdown",
   "metadata": {}
  },
  {
   "cell_type": "code",
   "execution_count": 4,
   "metadata": {},
   "outputs": [],
   "source": [
    "c2_blackbox_exp = create_experiment()"
   ]
  },
  {
   "source": [
    "### Optimizer Creation\n",
    "\n",
    "We create an optimizer object of $C_3$ type with the required configuration parameters in line with our dataset from the $C_2$ step."
   ],
   "cell_type": "markdown",
   "metadata": {}
  },
  {
   "source": [
    "### Run Model Learning"
   ],
   "cell_type": "markdown",
   "metadata": {}
  },
  {
   "source": [
    "### Analyse and Visualise data"
   ],
   "cell_type": "markdown",
   "metadata": {}
  }
 ],
 "metadata": {
  "kernelspec": {
   "name": "python3",
   "display_name": "Python 3.8.8 64-bit ('c3-qopt': conda)"
  },
  "language_info": {
   "codemirror_mode": {
    "name": "ipython",
    "version": 3
   },
   "file_extension": ".py",
   "mimetype": "text/x-python",
   "name": "python",
   "nbconvert_exporter": "python",
   "pygments_lexer": "ipython3",
   "version": "3.8.8"
  },
  "metadata": {
   "interpreter": {
    "hash": "d5cf14e4d9ab1ea025aa471aed46f344d1515a88cee97f484fbdd896922a10bf"
   }
  },
  "interpreter": {
   "hash": "d5cf14e4d9ab1ea025aa471aed46f344d1515a88cee97f484fbdd896922a10bf"
  }
 },
 "nbformat": 4,
 "nbformat_minor": 5
}