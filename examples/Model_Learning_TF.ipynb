{
 "cells": [
  {
   "cell_type": "markdown",
   "id": "abaee0fb",
   "metadata": {},
   "source": [
    "# Model Learning using $C^3$ with Tensorflow API"
   ]
  },
  {
   "cell_type": "markdown",
   "id": "ce190974",
   "metadata": {},
   "source": [
    "## Define a simple model\n",
    "\n",
    "Load a one qubit device model from `.cfg` and `.hjsons`"
   ]
  },
  {
   "cell_type": "markdown",
   "id": "c84b2346",
   "metadata": {},
   "source": [
    "\n",
    "## Run $C_1$ Optimal Control [Optional]"
   ]
  },
  {
   "cell_type": "markdown",
   "id": "9a951c77",
   "metadata": {},
   "source": [
    "## Run $C_2$ Device Calibration\n",
    "\n",
    "- Follow steps in `examples/Simulated_calibration.ipynb`\n",
    "- Store data from the calibration run in a reusable format\n",
    "\n",
    "The path to the dataset can be retrieved from opt.picklefilename"
   ]
  },
  {
   "cell_type": "markdown",
   "id": "74f2cf2d",
   "metadata": {},
   "source": [
    "## Run $C_3$ Model Characterisation\n",
    "\n",
    "- Load device model from configs\n",
    "- Read data from the dataset stored in previous step\n",
    "- Perform model learning with this data and model"
   ]
  },
  {
   "cell_type": "code",
   "execution_count": 1,
   "metadata": {},
   "outputs": [],
   "source": [
    "import copy\n",
    "import numpy as np\n",
    "from c3.model import Model as Mdl\n",
    "from c3.c3objs import Quantity as Qty\n",
    "from c3.parametermap import ParameterMap as PMap\n",
    "from c3.experiment import Experiment as Exp\n",
    "from c3.generator.generator import Generator as Gnr\n",
    "import c3.signal.gates as gates\n",
    "import c3.libraries.chip as chip\n",
    "import c3.generator.devices as devices\n",
    "import c3.libraries.hamiltonians as hamiltonians\n",
    "import c3.signal.pulse as pulse\n",
    "import c3.libraries.envelopes as envelopes\n",
    "import c3.libraries.tasks as tasks\n",
    "from c3.utils import qt_utils"
   ]
  },
  {
   "cell_type": "code",
   "execution_count": 2,
   "metadata": {},
   "outputs": [],
   "source": [
    "import tensorflow as tf\n",
    "from tensorflow import keras"
   ]
  },
  {
   "cell_type": "code",
   "execution_count": 3,
   "id": "6e9da309",
   "metadata": {},
   "outputs": [],
   "source": [
    "import pandas as pd\n",
    "from pprint import pprint"
   ]
  },
  {
   "cell_type": "code",
   "execution_count": 4,
   "id": "a5de883e",
   "metadata": {},
   "outputs": [],
   "source": [
    "c2_data = pd.read_pickle(\"dataset1.pkl\")"
   ]
  },
  {
   "cell_type": "markdown",
   "id": "5419063a",
   "metadata": {},
   "source": [
    "### What does the dataset from $C^2$ look like?"
   ]
  },
  {
   "cell_type": "code",
   "execution_count": 5,
   "id": "fa40e632",
   "metadata": {},
   "outputs": [
    {
     "output_type": "execute_result",
     "data": {
      "text/plain": [
       "                                              params  \\\n",
       "0  [(0.45), (-1.0), (-50500000.00000001), (4.0840...   \n",
       "1  [(0.4538241124244585), (-1.424521014737922), (...   \n",
       "2  [(0.4169468405700841), (-1.0141995806928747), ...   \n",
       "3  [(0.4144062157834531), (-0.7321606412541017), ...   \n",
       "4  [(0.40976180003577817), (-0.6025933839453428),...   \n",
       "\n",
       "                                                seqs  \\\n",
       "0  [[rx90p[0], rx90p[0], ry90p[0], ry90p[0], ry90...   \n",
       "1  [[ry90p[0], rx90p[0], ry90m[0], ry90m[0], rx90...   \n",
       "2  [[rx90p[0], ry90m[0], rx90p[0], rx90p[0], rx90...   \n",
       "3  [[rx90p[0], ry90p[0], rx90p[0], ry90p[0], ry90...   \n",
       "4  [[ry90p[0], rx90p[0], ry90p[0], rx90m[0], rx90...   \n",
       "\n",
       "                                             results  \\\n",
       "0  [[0.629], [0.837], [0.397], [0.696], [0.233], ...   \n",
       "1  [[0.38], [0.905], [0.638], [0.881], [0.817], [...   \n",
       "2  [[0.717], [0.945], [0.904], [0.745], [0.11], [...   \n",
       "3  [[0.328], [0.562], [0.727], [0.741], [0.723], ...   \n",
       "4  [[0.73], [0.098], [0.244], [0.67], [0.235], [0...   \n",
       "\n",
       "                                         results_std  \\\n",
       "0  [[0.015276092432294325], [0.011680368144883106...   \n",
       "1  [[0.015349267083479917], [0.00927227048785787]...   \n",
       "2  [[0.014244683218660919], [0.007209368904418751...   \n",
       "3  [[0.01484641370836742], [0.015689359451551872]...   \n",
       "4  [[0.014039230748157109], [0.009401914698613257...   \n",
       "\n",
       "                                               shots  \n",
       "0  [[1000], [1000], [1000], [1000], [1000], [1000...  \n",
       "1  [[1000], [1000], [1000], [1000], [1000], [1000...  \n",
       "2  [[1000], [1000], [1000], [1000], [1000], [1000...  \n",
       "3  [[1000], [1000], [1000], [1000], [1000], [1000...  \n",
       "4  [[1000], [1000], [1000], [1000], [1000], [1000...  "
      ],
      "text/html": "<div>\n<style scoped>\n    .dataframe tbody tr th:only-of-type {\n        vertical-align: middle;\n    }\n\n    .dataframe tbody tr th {\n        vertical-align: top;\n    }\n\n    .dataframe thead th {\n        text-align: right;\n    }\n</style>\n<table border=\"1\" class=\"dataframe\">\n  <thead>\n    <tr style=\"text-align: right;\">\n      <th></th>\n      <th>params</th>\n      <th>seqs</th>\n      <th>results</th>\n      <th>results_std</th>\n      <th>shots</th>\n    </tr>\n  </thead>\n  <tbody>\n    <tr>\n      <th>0</th>\n      <td>[(0.45), (-1.0), (-50500000.00000001), (4.0840...</td>\n      <td>[[rx90p[0], rx90p[0], ry90p[0], ry90p[0], ry90...</td>\n      <td>[[0.629], [0.837], [0.397], [0.696], [0.233], ...</td>\n      <td>[[0.015276092432294325], [0.011680368144883106...</td>\n      <td>[[1000], [1000], [1000], [1000], [1000], [1000...</td>\n    </tr>\n    <tr>\n      <th>1</th>\n      <td>[(0.4538241124244585), (-1.424521014737922), (...</td>\n      <td>[[ry90p[0], rx90p[0], ry90m[0], ry90m[0], rx90...</td>\n      <td>[[0.38], [0.905], [0.638], [0.881], [0.817], [...</td>\n      <td>[[0.015349267083479917], [0.00927227048785787]...</td>\n      <td>[[1000], [1000], [1000], [1000], [1000], [1000...</td>\n    </tr>\n    <tr>\n      <th>2</th>\n      <td>[(0.4169468405700841), (-1.0141995806928747), ...</td>\n      <td>[[rx90p[0], ry90m[0], rx90p[0], rx90p[0], rx90...</td>\n      <td>[[0.717], [0.945], [0.904], [0.745], [0.11], [...</td>\n      <td>[[0.014244683218660919], [0.007209368904418751...</td>\n      <td>[[1000], [1000], [1000], [1000], [1000], [1000...</td>\n    </tr>\n    <tr>\n      <th>3</th>\n      <td>[(0.4144062157834531), (-0.7321606412541017), ...</td>\n      <td>[[rx90p[0], ry90p[0], rx90p[0], ry90p[0], ry90...</td>\n      <td>[[0.328], [0.562], [0.727], [0.741], [0.723], ...</td>\n      <td>[[0.01484641370836742], [0.015689359451551872]...</td>\n      <td>[[1000], [1000], [1000], [1000], [1000], [1000...</td>\n    </tr>\n    <tr>\n      <th>4</th>\n      <td>[(0.40976180003577817), (-0.6025933839453428),...</td>\n      <td>[[ry90p[0], rx90p[0], ry90p[0], rx90m[0], rx90...</td>\n      <td>[[0.73], [0.098], [0.244], [0.67], [0.235], [0...</td>\n      <td>[[0.014039230748157109], [0.009401914698613257...</td>\n      <td>[[1000], [1000], [1000], [1000], [1000], [1000...</td>\n    </tr>\n  </tbody>\n</table>\n</div>"
     },
     "metadata": {},
     "execution_count": 5
    }
   ],
   "source": [
    "c2_data.head()"
   ]
  },
  {
   "cell_type": "code",
   "execution_count": 6,
   "metadata": {},
   "outputs": [
    {
     "output_type": "execute_result",
     "data": {
      "text/plain": [
       "[450.000 mV, -1.000 , -50.500 MHz 2pi, 4.084 rad]"
      ]
     },
     "metadata": {},
     "execution_count": 6
    }
   ],
   "source": [
    "c2_data['params'][0]"
   ]
  },
  {
   "cell_type": "code",
   "execution_count": 7,
   "metadata": {},
   "outputs": [
    {
     "output_type": "execute_result",
     "data": {
      "text/plain": [
       "450.000 mV"
      ]
     },
     "metadata": {},
     "execution_count": 7
    }
   ],
   "source": [
    "c2_data['params'][0][0]"
   ]
  },
  {
   "cell_type": "code",
   "execution_count": 8,
   "metadata": {},
   "outputs": [
    {
     "output_type": "execute_result",
     "data": {
      "text/plain": [
       "[450.000 mV, -1.000 , -50.500 MHz 2pi, 4.084 rad]"
      ]
     },
     "metadata": {},
     "execution_count": 8
    }
   ],
   "source": [
    "c2_data['params'][0]"
   ]
  },
  {
   "cell_type": "code",
   "execution_count": 9,
   "metadata": {},
   "outputs": [],
   "source": [
    "lindblad = False\n",
    "dressed = True\n",
    "qubit_lvls = 3\n",
    "freq = 5e9\n",
    "anhar = -210e6\n",
    "init_temp = 0\n",
    "qubit_temp = 0\n",
    "t_final = 7e-9  # Time for single qubit gates\n",
    "sim_res = 100e9\n",
    "awg_res = 2e9\n",
    "sideband = 50e6\n",
    "lo_freq = 5e9 + sideband\n",
    "\n",
    "# ### MAKE GENERATOR\n",
    "generator = Gnr(\n",
    "    devices={\n",
    "        \"LO\": devices.LO(name=\"lo\", resolution=sim_res, outputs=1),\n",
    "        \"AWG\": devices.AWG(name=\"awg\", resolution=awg_res, outputs=1),\n",
    "        \"DigitalToAnalog\": devices.DigitalToAnalog(\n",
    "            name=\"dac\", resolution=sim_res, inputs=1, outputs=1\n",
    "        ),\n",
    "        \"Response\": devices.Response(\n",
    "            name=\"resp\",\n",
    "            rise_time=Qty(value=0.3e-9, min_val=0.05e-9, max_val=0.6e-9, unit=\"s\"),\n",
    "            resolution=sim_res,\n",
    "            inputs=1,\n",
    "            outputs=1,\n",
    "        ),\n",
    "        \"Mixer\": devices.Mixer(name=\"mixer\", inputs=2, outputs=1),\n",
    "        \"VoltsToHertz\": devices.VoltsToHertz(\n",
    "            name=\"v_to_hz\",\n",
    "            V_to_Hz=Qty(value=1e9, min_val=0.9e9, max_val=1.1e9, unit=\"Hz/V\"),\n",
    "            inputs=1,\n",
    "            outputs=1,\n",
    "        ),\n",
    "    },\n",
    "    chains={\n",
    "        \"d1\": [\"LO\", \"AWG\", \"DigitalToAnalog\", \"Response\", \"Mixer\", \"VoltsToHertz\"]\n",
    "    },\n",
    ")\n",
    "generator.devices[\"AWG\"].enable_drag_2()\n",
    "\n",
    "# ### MAKE GATESET\n",
    "gauss_params_single = {\n",
    "    \"amp\": Qty(value=0.45, min_val=0.4, max_val=0.6, unit=\"V\"),\n",
    "    \"t_final\": Qty(\n",
    "        value=t_final, min_val=0.5 * t_final, max_val=1.5 * t_final, unit=\"s\"\n",
    "    ),\n",
    "    \"sigma\": Qty(\n",
    "        value=t_final / 4, min_val=t_final / 8, max_val=t_final / 2, unit=\"s\"\n",
    "    ),\n",
    "    \"xy_angle\": Qty(\n",
    "        value=0.0, min_val=-0.5 * np.pi, max_val=2.5 * np.pi, unit=\"rad\"\n",
    "    ),\n",
    "    \"freq_offset\": Qty(\n",
    "        value=-sideband - 0.5e6,\n",
    "        min_val=-60 * 1e6,\n",
    "        max_val=-40 * 1e6,\n",
    "        unit=\"Hz 2pi\",\n",
    "    ),\n",
    "    \"delta\": Qty(value=-1, min_val=-5, max_val=3, unit=\"\"),\n",
    "}\n",
    "\n",
    "gauss_env_single = pulse.Envelope(\n",
    "    name=\"gauss\",\n",
    "    desc=\"Gaussian comp for single-qubit gates\",\n",
    "    params=gauss_params_single,\n",
    "    shape=envelopes.gaussian_nonorm,\n",
    ")\n",
    "nodrive_env = pulse.Envelope(\n",
    "    name=\"no_drive\",\n",
    "    params={\n",
    "        \"t_final\": Qty(\n",
    "            value=t_final, min_val=0.5 * t_final, max_val=1.5 * t_final, unit=\"s\"\n",
    "        )\n",
    "    },\n",
    "    shape=envelopes.no_drive,\n",
    ")\n",
    "carrier_parameters = {\n",
    "    \"freq\": Qty(\n",
    "        value=lo_freq,\n",
    "        min_val=4.5e9,\n",
    "        max_val=6e9,\n",
    "        unit=\"Hz 2pi\",\n",
    "    ),\n",
    "    \"framechange\": Qty(value=0.0, min_val=-np.pi, max_val=3 * np.pi, unit=\"rad\"),\n",
    "}\n",
    "carr = pulse.Carrier(\n",
    "    name=\"carrier\",\n",
    "    desc=\"Frequency of the local oscillator\",\n",
    "    params=carrier_parameters,\n",
    ")\n",
    "\n",
    "rx90p = gates.Instruction(\n",
    "    name=\"rx90p\", t_start=0.0, t_end=t_final, channels=[\"d1\"], targets=[0]\n",
    ")\n",
    "QId = gates.Instruction(\n",
    "    name=\"id\", t_start=0.0, t_end=t_final, channels=[\"d1\"], targets=[0]\n",
    ")\n",
    "\n",
    "rx90p.add_component(gauss_env_single, \"d1\")\n",
    "rx90p.add_component(carr, \"d1\")\n",
    "QId.add_component(nodrive_env, \"d1\")\n",
    "QId.add_component(copy.deepcopy(carr), \"d1\")\n",
    "QId.comps[\"d1\"][\"carrier\"].params[\"framechange\"].set_value(\n",
    "    (-sideband * t_final) % (2 * np.pi)\n",
    ")\n",
    "ry90p = copy.deepcopy(rx90p)\n",
    "ry90p.name = \"ry90p\"\n",
    "rx90m = copy.deepcopy(rx90p)\n",
    "rx90m.name = \"rx90m\"\n",
    "ry90m = copy.deepcopy(rx90p)\n",
    "ry90m.name = \"ry90m\"\n",
    "ry90p.comps[\"d1\"][\"gauss\"].params[\"xy_angle\"].set_value(0.5 * np.pi)\n",
    "rx90m.comps[\"d1\"][\"gauss\"].params[\"xy_angle\"].set_value(np.pi)\n",
    "ry90m.comps[\"d1\"][\"gauss\"].params[\"xy_angle\"].set_value(1.5 * np.pi)\n",
    "\n",
    "# MAKE OPT_MAP\n",
    "opt_map =   [\n",
    "    [\n",
    "      (\"rx90p[0]\", \"d1\", \"gauss\", \"amp\"),\n",
    "      (\"ry90p[0]\", \"d1\", \"gauss\", \"amp\"),\n",
    "      (\"rx90m[0]\", \"d1\", \"gauss\", \"amp\"),\n",
    "      (\"ry90m[0]\", \"d1\", \"gauss\", \"amp\")\n",
    "    ],\n",
    "    [\n",
    "      (\"rx90p[0]\", \"d1\", \"gauss\", \"delta\"),\n",
    "      (\"ry90p[0]\", \"d1\", \"gauss\", \"delta\"),\n",
    "      (\"rx90m[0]\", \"d1\", \"gauss\", \"delta\"),\n",
    "      (\"ry90m[0]\", \"d1\", \"gauss\", \"delta\")\n",
    "    ],\n",
    "    [\n",
    "      (\"rx90p[0]\", \"d1\", \"gauss\", \"freq_offset\"),\n",
    "      (\"ry90p[0]\", \"d1\", \"gauss\", \"freq_offset\"),\n",
    "      (\"rx90m[0]\", \"d1\", \"gauss\", \"freq_offset\"),\n",
    "      (\"ry90m[0]\", \"d1\", \"gauss\", \"freq_offset\")\n",
    "    ],\n",
    "    [\n",
    "      (\"id[0]\", \"d1\", \"carrier\", \"framechange\")\n",
    "    ]\n",
    "  ]\n",
    "logdir = \"/tmp/c3logs/blackbox\"\n",
    "qubit_labels = {\n",
    "      \"excited\" : [(1,), (2,)]\n",
    "  }\n",
    "\n",
    "RB_length = 100 # How long each sequence is\n",
    "RB_number = 200  # How many sequences\n",
    "shots = 1000    # How many averages per readout\n",
    "\n",
    "################################\n",
    "### Simulation specific part ###\n",
    "################################\n",
    "\n",
    "do_noise = False  # Whether to add artificial noise to the results\n",
    "\n",
    "qubit_label = list(qubit_labels.keys())[0]\n",
    "state_labels = qubit_labels[qubit_label]\n",
    "state_label = [tuple(l) for l in state_labels]\n",
    "\n",
    "# Creating the RB sequences #\n",
    "seqs = qt_utils.single_length_RB(\n",
    "        RB_number=RB_number, RB_length=RB_length, target=0\n",
    ")\n"
   ]
  },
  {
   "cell_type": "code",
   "execution_count": 10,
   "metadata": {},
   "outputs": [],
   "source": [
    "class QSimulator(keras.layers.Layer):\n",
    "    def __init__(self):\n",
    "        super(QSimulator, self).__init__()\n",
    "        freq_init = tf.constant(value=0.5, dtype=tf.float64)\n",
    "\n",
    "        self.freq = tf.Variable(\n",
    "            initial_value=freq_init, trainable=True,\n",
    "        )\n",
    "\n",
    "    def call(self, inputs):\n",
    "        # ### MAKE MODEL\n",
    "        # Scale Frequency\n",
    "        min_val=4.995e9\n",
    "        max_val=5.005e9\n",
    "        freq_scaled = (self.freq.numpy() * (max_val - min_val)) + min_val\n",
    "        q1 = chip.Qubit(\n",
    "            name=\"Q1\",\n",
    "            desc=\"Qubit 1\",\n",
    "            freq=Qty(\n",
    "                value=freq_scaled,\n",
    "                min_val=4.995e9,\n",
    "                max_val=5.005e9,\n",
    "                unit=\"Hz 2pi\",\n",
    "            ),\n",
    "            anhar=Qty(\n",
    "                value=anhar,\n",
    "                min_val=-380e6,\n",
    "                max_val=-120e6,\n",
    "                unit=\"Hz 2pi\",\n",
    "            ),\n",
    "            hilbert_dim=qubit_lvls,\n",
    "            temp=Qty(value=qubit_temp, min_val=0.0, max_val=0.12, unit=\"K\"),\n",
    "        )\n",
    "\n",
    "        drive = chip.Drive(\n",
    "            name=\"d1\",\n",
    "            desc=\"Drive 1\",\n",
    "            comment=\"Drive line 1 on qubit 1\",\n",
    "            connected=[\"Q1\"],\n",
    "            hamiltonian_func=hamiltonians.x_drive,\n",
    "        )\n",
    "        phys_components = [q1]\n",
    "        line_components = [drive]\n",
    "\n",
    "        init_ground = tasks.InitialiseGround(\n",
    "            init_temp=Qty(value=init_temp, min_val=-0.001, max_val=0.22, unit=\"K\")\n",
    "        )\n",
    "        task_list = [init_ground]\n",
    "        model = Mdl(phys_components, line_components, task_list)\n",
    "        model.set_lindbladian(lindblad)\n",
    "        model.set_dressed(dressed)\n",
    "\n",
    "        parameter_map = PMap(\n",
    "            instructions=[QId, rx90p, ry90p, rx90m, ry90m], model=model, generator=generator\n",
    "        )\n",
    "\n",
    "        # ### MAKE EXPERIMENT\n",
    "        exp = Exp(pmap=parameter_map)\n",
    "\n",
    "        # Make params from inputs\n",
    "        amp = Qty(value=inputs[0].numpy(), min_val=0.4, max_val=0.6, unit=\"V\")\n",
    "        delta = Qty(value=inputs[1].numpy(), min_val=-5, max_val=3, unit=\"\")\n",
    "        freq_offset = Qty(\n",
    "            value=inputs[2].numpy(),\n",
    "            min_val=-60000000.0,\n",
    "            max_val=-40000000.0,\n",
    "            unit=\"Hz 2pi\",\n",
    "        )\n",
    "        framechange = Qty(value=inputs[3].numpy(), min_val=-np.pi, max_val=3 * np.pi, unit=\"rad\")\n",
    "\n",
    "        params = [amp, delta, freq_offset, framechange]\n",
    "        \n",
    "        # Transmitting the parameters to the experiment #\n",
    "        exp.pmap.set_parameters(params, opt_map)\n",
    "        exp.set_opt_gates_seq(seqs)\n",
    "\n",
    "        # Simulating the gates #\n",
    "        U_dict = exp.compute_propagators()\n",
    "\n",
    "        # Running the RB sequences and read-out the results #\n",
    "        pops = exp.evaluate(seqs)\n",
    "        pop1s, _ = exp.process(pops, labels=state_label)\n",
    "\n",
    "        results = []\n",
    "        results_std = []\n",
    "        shots_nums = []\n",
    "\n",
    "        # Collecting results and statistics, add noise #\n",
    "        if do_noise:\n",
    "            for p1 in pop1s:\n",
    "                draws = tf.keras.backend.random_binomial(\n",
    "                    [shots],\n",
    "                    p=p1[0],\n",
    "                    dtype=tf.float64,\n",
    "                )\n",
    "                results.append([np.mean(draws)])\n",
    "                results_std.append([np.std(draws)/np.sqrt(shots)])\n",
    "                shots_nums.append([shots])\n",
    "        else:\n",
    "            for p1 in pop1s:\n",
    "                results.append(p1.numpy())\n",
    "                results_std.append([0])\n",
    "                shots_nums.append([shots])\n",
    "\n",
    "        #######################################\n",
    "        ### End of Simulation specific part ###\n",
    "        #######################################\n",
    "\n",
    "        goal = np.mean(results)\n",
    "        return tf.constant(value=goal, dtype=tf.float64)"
   ]
  },
  {
   "cell_type": "code",
   "execution_count": 11,
   "metadata": {},
   "outputs": [],
   "source": [
    "par_arr = [i.get_value() for i in c2_data['params'][0]]"
   ]
  },
  {
   "cell_type": "code",
   "execution_count": 12,
   "metadata": {},
   "outputs": [
    {
     "output_type": "execute_result",
     "data": {
      "text/plain": [
       "[450.000 mV, -1.000 , -50.500 MHz 2pi, 4.084 rad]"
      ]
     },
     "metadata": {},
     "execution_count": 12
    }
   ],
   "source": [
    "c2_data['params'][0]"
   ]
  },
  {
   "cell_type": "code",
   "execution_count": 13,
   "metadata": {},
   "outputs": [
    {
     "output_type": "execute_result",
     "data": {
      "text/plain": [
       "<tf.Tensor: shape=(4,), dtype=float64, numpy=array([ 4.50000000e-01, -1.00000000e+00, -5.05000000e+07,  4.08407045e+00])>"
      ]
     },
     "metadata": {},
     "execution_count": 13
    }
   ],
   "source": [
    "par_num = [tf.constant(value=i.numpy(), dtype=tf.float64) for i in c2_data['params'][0]]\n",
    "par_num_tf = tf.concat(par_num, axis = 0)\n",
    "par_num_tf"
   ]
  },
  {
   "cell_type": "code",
   "execution_count": 14,
   "metadata": {},
   "outputs": [],
   "source": [
    "par_tf = tf.concat(par_arr, axis=0)"
   ]
  },
  {
   "cell_type": "code",
   "execution_count": 15,
   "metadata": {},
   "outputs": [
    {
     "output_type": "execute_result",
     "data": {
      "text/plain": [
       "<tf.Tensor: shape=(4,), dtype=float64, numpy=array([ 4.50000000e-01, -1.00000000e+00, -3.17300858e+08,  4.08407045e+00])>"
      ]
     },
     "metadata": {},
     "execution_count": 15
    }
   ],
   "source": [
    "par_tf"
   ]
  },
  {
   "cell_type": "code",
   "execution_count": 16,
   "metadata": {},
   "outputs": [],
   "source": [
    "qsim_layer = QSimulator()"
   ]
  },
  {
   "cell_type": "code",
   "execution_count": 17,
   "metadata": {},
   "outputs": [],
   "source": [
    "out = qsim_layer(par_num_tf)"
   ]
  },
  {
   "cell_type": "code",
   "execution_count": 18,
   "metadata": {},
   "outputs": [
    {
     "output_type": "execute_result",
     "data": {
      "text/plain": [
       "<tf.Tensor: shape=(), dtype=float64, numpy=0.6168894872576263>"
      ]
     },
     "metadata": {},
     "execution_count": 18
    }
   ],
   "source": [
    "out"
   ]
  }
 ],
 "metadata": {
  "kernelspec": {
   "name": "python388jvsc74a57bd0d5cf14e4d9ab1ea025aa471aed46f344d1515a88cee97f484fbdd896922a10bf",
   "display_name": "Python 3.8.8 64-bit ('c3-qopt': conda)"
  },
  "language_info": {
   "codemirror_mode": {
    "name": "ipython",
    "version": 3
   },
   "file_extension": ".py",
   "mimetype": "text/x-python",
   "name": "python",
   "nbconvert_exporter": "python",
   "pygments_lexer": "ipython3",
   "version": "3.8.8"
  },
  "metadata": {
   "interpreter": {
    "hash": "d5cf14e4d9ab1ea025aa471aed46f344d1515a88cee97f484fbdd896922a10bf"
   }
  }
 },
 "nbformat": 4,
 "nbformat_minor": 5
}